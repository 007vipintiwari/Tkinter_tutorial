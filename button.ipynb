{
 "cells": [
  {
   "cell_type": "code",
   "execution_count": 1,
   "metadata": {},
   "outputs": [],
   "source": [
    "from tkinter import *"
   ]
  },
  {
   "cell_type": "code",
   "execution_count": 12,
   "metadata": {},
   "outputs": [],
   "source": [
    "def btn1():\n",
    "    print(\"button 1 is clicked\")\n"
   ]
  },
  {
   "cell_type": "code",
   "execution_count": 13,
   "metadata": {},
   "outputs": [],
   "source": [
    "def btn2():\n",
    "    print(\"button 2 is clicked\")"
   ]
  },
  {
   "cell_type": "code",
   "execution_count": 14,
   "metadata": {},
   "outputs": [
    {
     "name": "stdout",
     "output_type": "stream",
     "text": [
      "button 1 is clicked\n",
      "button 2 is clicked\n",
      "button 1 is clicked\n",
      "button 2 is clicked\n"
     ]
    }
   ],
   "source": [
    "root = Tk()\n",
    "root.geometry(\"500x400\")\n",
    "frame = Frame(root,borderwidth = 6,bg = \"grey\",relief = SUNKEN)\n",
    "frame.pack(side =LEFT,anchor = \"nw\")\n",
    "button = Button(frame,text =\"click me\",bg=\"red\",font =\"Cambria 14 bold\",command= btn1)\n",
    "button.pack(side = LEFT,padx = 33)\n",
    "frame1 = Frame(root,borderwidth = 6,bg = \"grey\",relief = SUNKEN)\n",
    "frame1.pack(side =TOP,anchor = \"nw\")\n",
    "button = Button(frame,text =\"click me\",bg=\"red\",font =\"Cambria 14 bold\",command = btn2)\n",
    "button.pack(side = LEFT,padx = 33)\n",
    "root.mainloop()"
   ]
  },
  {
   "cell_type": "code",
   "execution_count": null,
   "metadata": {},
   "outputs": [],
   "source": []
  }
 ],
 "metadata": {
  "kernelspec": {
   "display_name": "Python 3",
   "language": "python",
   "name": "python3"
  },
  "language_info": {
   "codemirror_mode": {
    "name": "ipython",
    "version": 3
   },
   "file_extension": ".py",
   "mimetype": "text/x-python",
   "name": "python",
   "nbconvert_exporter": "python",
   "pygments_lexer": "ipython3",
   "version": "3.7.4"
  }
 },
 "nbformat": 4,
 "nbformat_minor": 2
}
